{
 "cells": [
  {
   "cell_type": "markdown",
   "id": "62322e66-d89b-4d82-8323-bc3747086b80",
   "metadata": {},
   "source": [
    "#**Regression discontinuity: banking recovery** <br>\n",
    "Loading the Dataset"
   ]
  },
  {
   "cell_type": "code",
   "execution_count": null,
   "id": "47046ba5-8e8c-47df-acdf-cff8afe7183c",
   "metadata": {
    "tags": []
   },
   "outputs": [],
   "source": [
    "import pandas as pd\n",
    "import numpy as py"
   ]
  },
  {
   "cell_type": "code",
   "execution_count": null,
   "id": "fab6e156-8abd-403b-8537-572b7c92ca7b",
   "metadata": {
    "tags": []
   },
   "outputs": [],
   "source": [
    "df = pd.read_csv('C:/Users/Banumathi/Downloads/bank_data.csv')\n",
    "print(df.shape)"
   ]
  },
  {
   "cell_type": "markdown",
   "id": "42ed0b2b-0fcb-4eb4-9668-2ea10bc044ab",
   "metadata": {
    "tags": []
   },
   "source": [
    "#**Age Vs Expected Recovery Amount**"
   ]
  },
  {
   "cell_type": "code",
   "execution_count": null,
   "id": "5c3a7932-98e5-4e9d-ba6c-d23471c55a09",
   "metadata": {
    "tags": []
   },
   "outputs": [],
   "source": [
    "from matplotlib import pyplot as plt\n",
    "%matplotlib inline\n",
    "plt.scatter(x=df['expected_recovery_amount'], y=df['age'], c=\"g\", s=2)\n",
    "plt.xlim(0, 2000)\n",
    "plt.ylim(0, 60)\n",
    "plt.xlabel(\"Expected Recovery Amount\")\n",
    "plt.ylabel(\"Age\")\n",
    "plt.legend(['Age'],loc=2)\n",
    "plt.show()"
   ]
  },
  {
   "cell_type": "code",
   "execution_count": null,
   "id": "0473c183-6dec-4b24-be3c-82846d8f068c",
   "metadata": {
    "tags": []
   },
   "outputs": [],
   "source": [
    "df.head()"
   ]
  },
  {
   "cell_type": "code",
   "execution_count": null,
   "id": "6a3e5d96-79b2-435a-9b55-cbb1b2ff5b2d",
   "metadata": {
    "tags": []
   },
   "outputs": [],
   "source": [
    "from scipy import stats\n",
    "Thres_900_1100 = df.loc[(df['expected_recovery_amount']<1100) & \n",
    "                      (df['expected_recovery_amount']>=900)]\n",
    "by_recovery_strategy = Thres_900_1100.groupby(['recovery_strategy'])\n",
    "by_recovery_strategy['age'].describe().unstack()\n",
    "Level_0_age = Thres_900_1100.loc[df[\"recovery_strategy\"]==\"Level 0 Recovery\"]['age']\n",
    "Level_1_age = Thres_900_1100.loc[df[\"recovery_strategy\"]==\"Level 1 Recovery\"]['age']\n",
    "stats.kruskal(Level_0_age,Level_1_age)"
   ]
  },
  {
   "cell_type": "markdown",
   "id": "a34f07e9-d6a2-469b-af58-03cafbe68dbe",
   "metadata": {},
   "source": [
    "#**Sex vs. expected recovery amount**"
   ]
  },
  {
   "cell_type": "code",
   "execution_count": null,
   "id": "0865e7a9-601c-447e-b05b-f6f59bb49ea8",
   "metadata": {
    "tags": []
   },
   "outputs": [],
   "source": [
    "Customer_M_F = pd.crosstab(df.loc[(df['expected_recovery_amount']<1100) & \n",
    "                              (df['expected_recovery_amount']>=900)]['recovery_strategy'], \n",
    "                       df['sex'])\n",
    "print(Customer_M_F)\n",
    "chi2_stat, p_val, dof, ex = stats.chi2_contingency(Customer_M_F)\n",
    "print(p_val)"
   ]
  },
  {
   "cell_type": "markdown",
   "id": "f04d864b-1293-4657-9165-d06562b8dcec",
   "metadata": {},
   "source": [
    "#**Actual Recovery Amount vs. Expected Recovery Amount**"
   ]
  },
  {
   "cell_type": "code",
   "execution_count": null,
   "id": "0f10a82f-9392-4a30-8c05-80cadfca94c1",
   "metadata": {
    "tags": []
   },
   "outputs": [],
   "source": [
    "plt.scatter(x=df['expected_recovery_amount'], \n",
    "            y=df['actual_recovery_amount'], c=\"g\", s=2)\n",
    "plt.xlim(900, 1100)\n",
    "plt.ylim(0, 2000)\n",
    "plt.xlabel(\"Expected Recovery Amount\")\n",
    "plt.ylabel(\"Actual Recovery Amount\")\n",
    "plt.legend(['actual recovery Amount'],loc=2)\n",
    "plt.show()"
   ]
  },
  {
   "cell_type": "markdown",
   "id": "4d32f940-10b3-486c-a911-121cc7f5a646",
   "metadata": {},
   "source": [
    "#**Statistical analysis: recovery amount**"
   ]
  },
  {
   "cell_type": "code",
   "execution_count": null,
   "id": "020b961a-16de-49b3-a3d2-3b7f4dcccdaf",
   "metadata": {
    "tags": []
   },
   "outputs": [],
   "source": [
    "by_recovery_strategy['actual_recovery_amount'].describe().unstack()\n",
    "Level_0_actual = era_900_1100.loc[df['recovery_strategy']=='Level 0 Recovery']['actual_recovery_amount']\n",
    "Level_1_actual = era_900_1100.loc[df['recovery_strategy']=='Level 1 Recovery']['actual_recovery_amount']\n",
    "stats.kruskal(Level_0_actual,Level_1_actual) "
   ]
  },
  {
   "cell_type": "markdown",
   "id": "32744126-8865-41c0-bc4c-5bb09243fb17",
   "metadata": {},
   "source": [
    "For a smaller range of $ 950 to $ 1050"
   ]
  },
  {
   "cell_type": "code",
   "execution_count": null,
   "id": "c696d9e1-0dc8-4762-8caf-b12236d388a1",
   "metadata": {
    "tags": []
   },
   "outputs": [],
   "source": [
    "Thres_950_1050 = df.loc[(df['expected_recovery_amount']<1050) & \n",
    "                      (df['expected_recovery_amount']>=950)]\n",
    "Level_0_actual = Thres_950_1050.loc[df['recovery_strategy']=='Level 0 Recovery']['actual_recovery_amount']\n",
    "Level_1_actual = Thres_950_1050.loc[df['recovery_strategy']=='Level 1 Recovery']['actual_recovery_amount']\n",
    "stats.kruskal(Level_0_actual,Level_1_actual)"
   ]
  },
  {
   "cell_type": "markdown",
   "id": "419e32de-78ba-4adc-980c-f84e5474409b",
   "metadata": {},
   "source": [
    "**Regression modeling: no threshold**"
   ]
  },
  {
   "cell_type": "code",
   "execution_count": null,
   "id": "eac7ab9c-8fdd-4b68-abf4-235e46ac59b7",
   "metadata": {
    "tags": []
   },
   "outputs": [],
   "source": [
    "import statsmodels.api as sm\n",
    "X = Thres_900_1100['expected_recovery_amount']\n",
    "y = Thres_900_1100['actual_recovery_amount']\n",
    "X = sm.add_constant(X)\n",
    "model = sm.OLS(y, X).fit()\n",
    "predictions = model.predict(X)\n",
    "model.summary()"
   ]
  },
  {
   "cell_type": "markdown",
   "id": "a41a2ad1-631b-4bff-89d2-00e6d3626324",
   "metadata": {},
   "source": [
    "**adding true threshold**"
   ]
  },
  {
   "cell_type": "code",
   "execution_count": null,
   "id": "5321a207-77fa-430e-8b82-fc1c64bdd7e5",
   "metadata": {
    "tags": []
   },
   "outputs": [],
   "source": [
    "df['indicator_1000'] = py.where(df['expected_recovery_amount'] < 1000, 0, 1)\n",
    "era_900_1100 = df.loc[(df['expected_recovery_amount']<1100) & \n",
    "                      (df['expected_recovery_amount']>=900)]\n",
    "X = era_900_1100[['expected_recovery_amount','indicator_1000']]\n",
    "y = era_900_1100['actual_recovery_amount']\n",
    "X = sm.add_constant(X)\n",
    "model = sm.OLS(y,X).fit()\n",
    "print(model.summary())"
   ]
  },
  {
   "cell_type": "markdown",
   "id": "2e87e622-c87f-410b-bdec-91e4394bd852",
   "metadata": {},
   "source": [
    "**adjusting the window**"
   ]
  },
  {
   "cell_type": "code",
   "execution_count": null,
   "id": "b4113397-6570-4a05-96db-8c5373129e12",
   "metadata": {
    "tags": []
   },
   "outputs": [],
   "source": [
    "era_950_1050 = df.loc[(df['expected_recovery_amount']<1050) & \n",
    "                      (df['expected_recovery_amount']>=900)]\n",
    "X = era_950_1050[['expected_recovery_amount','indicator_1000']]\n",
    "y = era_950_1050['actual_recovery_amount']\n",
    "X = sm.add_constant(X)\n",
    "model = sm.OLS(y,X).fit()\n",
    "model.summary()"
   ]
  }
 ],
 "metadata": {
  "kernelspec": {
   "display_name": "Python 3 (ipykernel)",
   "language": "python",
   "name": "python3"
  },
  "language_info": {
   "codemirror_mode": {
    "name": "ipython",
    "version": 3
   },
   "file_extension": ".py",
   "mimetype": "text/x-python",
   "name": "python",
   "nbconvert_exporter": "python",
   "pygments_lexer": "ipython3",
   "version": "3.11.3"
  }
 },
 "nbformat": 4,
 "nbformat_minor": 5
}
